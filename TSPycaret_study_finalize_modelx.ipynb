{
 "cells": [
  {
   "cell_type": "markdown",
   "id": "dba67ae7",
   "metadata": {},
   "source": [
    "### This notebook is an investigation about finalize_model() from TS Pycaret: parameters changing"
   ]
  },
  {
   "cell_type": "markdown",
   "id": "45833feb",
   "metadata": {},
   "source": [
    "References\n",
    "- https://pycaret.readthedocs.io/en/time_series/api/time_series.html\n",
    "- https://towardsdatascience.com/announcing-pycarets-new-time-series-module-b6e724d4636c\n",
    "- https://github.com/pycaret/pycaret/discussions/1767\n",
    "- https://github.com/pycaret/pycaret/discussions/1795\n",
    "- https://github.com/pycaret/pycaret/discussions/1969"
   ]
  },
  {
   "cell_type": "code",
   "execution_count": 4,
   "id": "52eb357b",
   "metadata": {},
   "outputs": [],
   "source": [
    "import pandas as pd\n",
    "import numpy as np\n",
    "from pycaret.time_series import *"
   ]
  },
  {
   "cell_type": "code",
   "execution_count": 5,
   "id": "348ffe6d",
   "metadata": {},
   "outputs": [
    {
     "data": {
      "text/plain": [
       "Period\n",
       "1949-01    112.0\n",
       "1949-02    118.0\n",
       "1949-03    132.0\n",
       "1949-04    129.0\n",
       "1949-05    121.0\n",
       "Freq: M, Name: Number of airline passengers, dtype: float64"
      ]
     },
     "metadata": {},
     "output_type": "display_data"
    },
    {
     "data": {
      "text/plain": [
       "<AxesSubplot:xlabel='Period'>"
      ]
     },
     "execution_count": 5,
     "metadata": {},
     "output_type": "execute_result"
    },
    {
     "data": {
      "image/png": "[encoded data removed]",
      "text/plain": [
       "<Figure size 576x396 with 1 Axes>"
      ]
     },
     "metadata": {},
     "output_type": "display_data"
    }
   ],
   "source": [
    "### exemplo de dados mensais\n",
    "from pycaret.datasets import get_data\n",
    "data = get_data('airline', verbose=True)\n",
    "data.plot()"
   ]
  },
  {
   "cell_type": "code",
   "execution_count": 6,
   "id": "f48f6525",
   "metadata": {},
   "outputs": [
    {
     "data": {
      "text/html": [
       "<style  type=\"text/css\" >\n",
       "#T_a1aec_row9_col1,#T_a1aec_row11_col1,#T_a1aec_row13_col1,#T_a1aec_row14_col1{\n",
       "            background-color:  lightgreen;\n",
       "        }</style><table id=\"T_a1aec_\" ><thead>    <tr>        <th class=\"blank level0\" ></th>        <th class=\"col_heading level0 col0\" >Description</th>        <th class=\"col_heading level0 col1\" >Value</th>    </tr></thead><tbody>\n",
       "                <tr>\n",
       "                        <th id=\"T_a1aec_level0_row0\" class=\"row_heading level0 row0\" >0</th>\n",
       "                        <td id=\"T_a1aec_row0_col0\" class=\"data row0 col0\" >session_id</td>\n",
       "                        <td id=\"T_a1aec_row0_col1\" class=\"data row0 col1\" >123</td>\n",
       "            </tr>\n",
       "            <tr>\n",
       "                        <th id=\"T_a1aec_level0_row1\" class=\"row_heading level0 row1\" >1</th>\n",
       "                        <td id=\"T_a1aec_row1_col0\" class=\"data row1 col0\" >Original Data</td>\n",
       "                        <td id=\"T_a1aec_row1_col1\" class=\"data row1 col1\" >(144, 1)</td>\n",
       "            </tr>\n",
       "            <tr>\n",
       "                        <th id=\"T_a1aec_level0_row2\" class=\"row_heading level0 row2\" >2</th>\n",
       "                        <td id=\"T_a1aec_row2_col0\" class=\"data row2 col0\" >Missing Values</td>\n",
       "                        <td id=\"T_a1aec_row2_col1\" class=\"data row2 col1\" >False</td>\n",
       "            </tr>\n",
       "            <tr>\n",
       "                        <th id=\"T_a1aec_level0_row3\" class=\"row_heading level0 row3\" >3</th>\n",
       "                        <td id=\"T_a1aec_row3_col0\" class=\"data row3 col0\" >Transformed Train Set</td>\n",
       "                        <td id=\"T_a1aec_row3_col1\" class=\"data row3 col1\" >(138,)</td>\n",
       "            </tr>\n",
       "            <tr>\n",
       "                        <th id=\"T_a1aec_level0_row4\" class=\"row_heading level0 row4\" >4</th>\n",
       "                        <td id=\"T_a1aec_row4_col0\" class=\"data row4 col0\" >Transformed Test Set</td>\n",
       "                        <td id=\"T_a1aec_row4_col1\" class=\"data row4 col1\" >(6,)</td>\n",
       "            </tr>\n",
       "            <tr>\n",
       "                        <th id=\"T_a1aec_level0_row5\" class=\"row_heading level0 row5\" >5</th>\n",
       "                        <td id=\"T_a1aec_row5_col0\" class=\"data row5 col0\" >Fold Generator</td>\n",
       "                        <td id=\"T_a1aec_row5_col1\" class=\"data row5 col1\" >SlidingWindowSplitter</td>\n",
       "            </tr>\n",
       "            <tr>\n",
       "                        <th id=\"T_a1aec_level0_row6\" class=\"row_heading level0 row6\" >6</th>\n",
       "                        <td id=\"T_a1aec_row6_col0\" class=\"data row6 col0\" >Fold Number</td>\n",
       "                        <td id=\"T_a1aec_row6_col1\" class=\"data row6 col1\" >3</td>\n",
       "            </tr>\n",
       "            <tr>\n",
       "                        <th id=\"T_a1aec_level0_row7\" class=\"row_heading level0 row7\" >7</th>\n",
       "                        <td id=\"T_a1aec_row7_col0\" class=\"data row7 col0\" >Enforce Prediction Interval</td>\n",
       "                        <td id=\"T_a1aec_row7_col1\" class=\"data row7 col1\" >False</td>\n",
       "            </tr>\n",
       "            <tr>\n",
       "                        <th id=\"T_a1aec_level0_row8\" class=\"row_heading level0 row8\" >8</th>\n",
       "                        <td id=\"T_a1aec_row8_col0\" class=\"data row8 col0\" >Seasonal Period Tested</td>\n",
       "                        <td id=\"T_a1aec_row8_col1\" class=\"data row8 col1\" >12</td>\n",
       "            </tr>\n",
       "            <tr>\n",
       "                        <th id=\"T_a1aec_level0_row9\" class=\"row_heading level0 row9\" >9</th>\n",
       "                        <td id=\"T_a1aec_row9_col0\" class=\"data row9 col0\" >Seasonality Detected</td>\n",
       "                        <td id=\"T_a1aec_row9_col1\" class=\"data row9 col1\" >True</td>\n",
       "            </tr>\n",
       "            <tr>\n",
       "                        <th id=\"T_a1aec_level0_row10\" class=\"row_heading level0 row10\" >10</th>\n",
       "                        <td id=\"T_a1aec_row10_col0\" class=\"data row10 col0\" >Seasonality Used in Models</td>\n",
       "                        <td id=\"T_a1aec_row10_col1\" class=\"data row10 col1\" >12</td>\n",
       "            </tr>\n",
       "            <tr>\n",
       "                        <th id=\"T_a1aec_level0_row11\" class=\"row_heading level0 row11\" >11</th>\n",
       "                        <td id=\"T_a1aec_row11_col0\" class=\"data row11 col0\" >Target Strictly Positive</td>\n",
       "                        <td id=\"T_a1aec_row11_col1\" class=\"data row11 col1\" >True</td>\n",
       "            </tr>\n",
       "            <tr>\n",
       "                        <th id=\"T_a1aec_level0_row12\" class=\"row_heading level0 row12\" >12</th>\n",
       "                        <td id=\"T_a1aec_row12_col0\" class=\"data row12 col0\" >Target White Noise</td>\n",
       "                        <td id=\"T_a1aec_row12_col1\" class=\"data row12 col1\" >No</td>\n",
       "            </tr>\n",
       "            <tr>\n",
       "                        <th id=\"T_a1aec_level0_row13\" class=\"row_heading level0 row13\" >13</th>\n",
       "                        <td id=\"T_a1aec_row13_col0\" class=\"data row13 col0\" >Recommended d</td>\n",
       "                        <td id=\"T_a1aec_row13_col1\" class=\"data row13 col1\" >1</td>\n",
       "            </tr>\n",
       "            <tr>\n",
       "                        <th id=\"T_a1aec_level0_row14\" class=\"row_heading level0 row14\" >14</th>\n",
       "                        <td id=\"T_a1aec_row14_col0\" class=\"data row14 col0\" >Recommended Seasonal D</td>\n",
       "                        <td id=\"T_a1aec_row14_col1\" class=\"data row14 col1\" >1</td>\n",
       "            </tr>\n",
       "            <tr>\n",
       "                        <th id=\"T_a1aec_level0_row15\" class=\"row_heading level0 row15\" >15</th>\n",
       "                        <td id=\"T_a1aec_row15_col0\" class=\"data row15 col0\" >CPU Jobs</td>\n",
       "                        <td id=\"T_a1aec_row15_col1\" class=\"data row15 col1\" >-1</td>\n",
       "            </tr>\n",
       "            <tr>\n",
       "                        <th id=\"T_a1aec_level0_row16\" class=\"row_heading level0 row16\" >16</th>\n",
       "                        <td id=\"T_a1aec_row16_col0\" class=\"data row16 col0\" >Use GPU</td>\n",
       "                        <td id=\"T_a1aec_row16_col1\" class=\"data row16 col1\" >False</td>\n",
       "            </tr>\n",
       "            <tr>\n",
       "                        <th id=\"T_a1aec_level0_row17\" class=\"row_heading level0 row17\" >17</th>\n",
       "                        <td id=\"T_a1aec_row17_col0\" class=\"data row17 col0\" >Log Experiment</td>\n",
       "                        <td id=\"T_a1aec_row17_col1\" class=\"data row17 col1\" >False</td>\n",
       "            </tr>\n",
       "            <tr>\n",
       "                        <th id=\"T_a1aec_level0_row18\" class=\"row_heading level0 row18\" >18</th>\n",
       "                        <td id=\"T_a1aec_row18_col0\" class=\"data row18 col0\" >Experiment Name</td>\n",
       "                        <td id=\"T_a1aec_row18_col1\" class=\"data row18 col1\" >ts-default-name</td>\n",
       "            </tr>\n",
       "            <tr>\n",
       "                        <th id=\"T_a1aec_level0_row19\" class=\"row_heading level0 row19\" >19</th>\n",
       "                        <td id=\"T_a1aec_row19_col0\" class=\"data row19 col0\" >USI</td>\n",
       "                        <td id=\"T_a1aec_row19_col1\" class=\"data row19 col1\" >0fd2</td>\n",
       "            </tr>\n",
       "            <tr>\n",
       "                        <th id=\"T_a1aec_level0_row20\" class=\"row_heading level0 row20\" >20</th>\n",
       "                        <td id=\"T_a1aec_row20_col0\" class=\"data row20 col0\" >Imputation Type</td>\n",
       "                        <td id=\"T_a1aec_row20_col1\" class=\"data row20 col1\" >simple</td>\n",
       "            </tr>\n",
       "    </tbody></table>"
      ],
      "text/plain": [
       "<pandas.io.formats.style.Styler at 0x2309ffe0ee0>"
      ]
     },
     "metadata": {},
     "output_type": "display_data"
    },
    {
     "data": {
      "text/plain": [
       "<pycaret.internal.pycaret_experiment.time_series_experiment.TimeSeriesExperiment at 0x2309e599160>"
      ]
     },
     "execution_count": 6,
     "metadata": {},
     "output_type": "execute_result"
    }
   ],
   "source": [
    "n_frequecia = 12\n",
    "\n",
    "\n",
    "setup(data, \n",
    "      fh = 6, ### fh aqui define o tamanho do teste/validação\n",
    "      fold = 3, ## quebra a amostra de treino. Poderia seria igual 2, porém se não for >=3, quebra o tunning (qto > fold => menor amostra para treino)\n",
    "      fold_strategy='sliding',\n",
    "      enforce_pi=False, ### somente prophet, arima, ets e tabts têm intervalos de projeçõa, se True, vai trazer somente esses métodos\n",
    "      seasonal_period=n_frequecia,\n",
    "      #profile=True,\n",
    "      preprocess=True, ### não está funcionando ainda\n",
    "      session_id = 123)"
   ]
  },
  {
   "cell_type": "markdown",
   "id": "1a5e329a",
   "metadata": {},
   "source": [
    "### Using sktime for auto.arima"
   ]
  },
  {
   "cell_type": "code",
   "execution_count": 8,
   "id": "5259cf05",
   "metadata": {},
   "outputs": [],
   "source": [
    "from sktime.datasets import load_airline\n",
    "from sktime.forecasting.arima import AutoARIMA\n",
    "y = get_config('y_train') ## only in the train portion\n",
    "forecaster = AutoARIMA(sp=12, suppress_warnings=True,random_state=123)\n",
    "z=forecaster.fit(y)\n",
    "AutoARIMA(...)\n",
    "y_pred = forecaster.predict(fh=[1,2,3,4,5,6])"
   ]
  },
  {
   "cell_type": "code",
   "execution_count": 9,
   "id": "c573492c",
   "metadata": {},
   "outputs": [
    {
     "data": {
      "text/plain": [
       "{'D': None,\n",
       " 'alpha': 0.05,\n",
       " 'd': None,\n",
       " 'error_action': 'warn',\n",
       " 'information_criterion': 'aic',\n",
       " 'max_D': 1,\n",
       " 'max_P': 2,\n",
       " 'max_Q': 2,\n",
       " 'max_d': 2,\n",
       " 'max_order': 5,\n",
       " 'max_p': 5,\n",
       " 'max_q': 5,\n",
       " 'maxiter': 50,\n",
       " 'method': 'lbfgs',\n",
       " 'n_fits': 10,\n",
       " 'n_jobs': 1,\n",
       " 'offset_test_args': None,\n",
       " 'out_of_sample_size': 0,\n",
       " 'random': False,\n",
       " 'random_state': 123,\n",
       " 'scoring': 'mse',\n",
       " 'scoring_args': None,\n",
       " 'seasonal': True,\n",
       " 'seasonal_test': 'ocsb',\n",
       " 'seasonal_test_args': None,\n",
       " 'sp': 12,\n",
       " 'start_P': 1,\n",
       " 'start_Q': 1,\n",
       " 'start_p': 2,\n",
       " 'start_params': None,\n",
       " 'start_q': 2,\n",
       " 'stationary': False,\n",
       " 'stepwise': True,\n",
       " 'suppress_warnings': True,\n",
       " 'test': 'kpss',\n",
       " 'trace': False,\n",
       " 'trend': None,\n",
       " 'with_intercept': True}"
      ]
     },
     "execution_count": 9,
     "metadata": {},
     "output_type": "execute_result"
    }
   ],
   "source": [
    "z.get_params()"
   ]
  },
  {
   "cell_type": "code",
   "execution_count": 11,
   "id": "7520c3b2",
   "metadata": {},
   "outputs": [
    {
     "data": {
      "text/html": [
       "<table class=\"simpletable\">\n",
       "<caption>SARIMAX Results</caption>\n",
       "<tr>\n",
       "  <th>Dep. Variable:</th>                    <td>y</td>                  <th>  No. Observations:  </th>    <td>138</td>  \n",
       "</tr>\n",
       "<tr>\n",
       "  <th>Model:</th>           <td>SARIMAX(0, 1, 1)x(1, 1, [1, 2], 12)</td> <th>  Log Likelihood     </th> <td>-476.916</td>\n",
       "</tr>\n",
       "<tr>\n",
       "  <th>Date:</th>                     <td>Tue, 21 Dec 2021</td>           <th>  AIC                </th>  <td>963.831</td>\n",
       "</tr>\n",
       "<tr>\n",
       "  <th>Time:</th>                         <td>11:25:35</td>               <th>  BIC                </th>  <td>977.973</td>\n",
       "</tr>\n",
       "<tr>\n",
       "  <th>Sample:</th>                           <td>0</td>                  <th>  HQIC               </th>  <td>969.576</td>\n",
       "</tr>\n",
       "<tr>\n",
       "  <th></th>                               <td> - 138</td>                <th>                     </th>     <td> </td>   \n",
       "</tr>\n",
       "<tr>\n",
       "  <th>Covariance Type:</th>                 <td>opg</td>                 <th>                     </th>     <td> </td>   \n",
       "</tr>\n",
       "</table>\n",
       "<table class=\"simpletable\">\n",
       "<tr>\n",
       "      <td></td>        <th>coef</th>     <th>std err</th>      <th>z</th>      <th>P>|z|</th>  <th>[0.025</th>    <th>0.975]</th>  \n",
       "</tr>\n",
       "<tr>\n",
       "  <th>ma.L1</th>    <td>   -0.4017</td> <td>    0.063</td> <td>   -6.333</td> <td> 0.000</td> <td>   -0.526</td> <td>   -0.277</td>\n",
       "</tr>\n",
       "<tr>\n",
       "  <th>ar.S.L12</th> <td>    0.9670</td> <td>    0.129</td> <td>    7.506</td> <td> 0.000</td> <td>    0.714</td> <td>    1.219</td>\n",
       "</tr>\n",
       "<tr>\n",
       "  <th>ma.S.L12</th> <td>   -1.2407</td> <td>    0.303</td> <td>   -4.100</td> <td> 0.000</td> <td>   -1.834</td> <td>   -0.648</td>\n",
       "</tr>\n",
       "<tr>\n",
       "  <th>ma.S.L24</th> <td>    0.3552</td> <td>    0.136</td> <td>    2.620</td> <td> 0.009</td> <td>    0.089</td> <td>    0.621</td>\n",
       "</tr>\n",
       "<tr>\n",
       "  <th>sigma2</th>   <td>  111.8755</td> <td>   14.982</td> <td>    7.467</td> <td> 0.000</td> <td>   82.512</td> <td>  141.239</td>\n",
       "</tr>\n",
       "</table>\n",
       "<table class=\"simpletable\">\n",
       "<tr>\n",
       "  <th>Ljung-Box (L1) (Q):</th>     <td>0.00</td> <th>  Jarque-Bera (JB):  </th> <td>12.50</td>\n",
       "</tr>\n",
       "<tr>\n",
       "  <th>Prob(Q):</th>                <td>0.96</td> <th>  Prob(JB):          </th> <td>0.00</td> \n",
       "</tr>\n",
       "<tr>\n",
       "  <th>Heteroskedasticity (H):</th> <td>2.48</td> <th>  Skew:              </th> <td>0.10</td> \n",
       "</tr>\n",
       "<tr>\n",
       "  <th>Prob(H) (two-sided):</th>    <td>0.00</td> <th>  Kurtosis:          </th> <td>4.54</td> \n",
       "</tr>\n",
       "</table><br/><br/>Warnings:<br/>[1] Covariance matrix calculated using the outer product of gradients (complex-step)."
      ],
      "text/plain": [
       "<class 'statsmodels.iolib.summary.Summary'>\n",
       "\"\"\"\n",
       "                                        SARIMAX Results                                        \n",
       "===============================================================================================\n",
       "Dep. Variable:                                       y   No. Observations:                  138\n",
       "Model:             SARIMAX(0, 1, 1)x(1, 1, [1, 2], 12)   Log Likelihood                -476.916\n",
       "Date:                                 Tue, 21 Dec 2021   AIC                            963.831\n",
       "Time:                                         11:25:35   BIC                            977.973\n",
       "Sample:                                              0   HQIC                           969.576\n",
       "                                                 - 138                                         \n",
       "Covariance Type:                                   opg                                         \n",
       "==============================================================================\n",
       "                 coef    std err          z      P>|z|      [0.025      0.975]\n",
       "------------------------------------------------------------------------------\n",
       "ma.L1         -0.4017      0.063     -6.333      0.000      -0.526      -0.277\n",
       "ar.S.L12       0.9670      0.129      7.506      0.000       0.714       1.219\n",
       "ma.S.L12      -1.2407      0.303     -4.100      0.000      -1.834      -0.648\n",
       "ma.S.L24       0.3552      0.136      2.620      0.009       0.089       0.621\n",
       "sigma2       111.8755     14.982      7.467      0.000      82.512     141.239\n",
       "===================================================================================\n",
       "Ljung-Box (L1) (Q):                   0.00   Jarque-Bera (JB):                12.50\n",
       "Prob(Q):                              0.96   Prob(JB):                         0.00\n",
       "Heteroskedasticity (H):               2.48   Skew:                             0.10\n",
       "Prob(H) (two-sided):                  0.00   Kurtosis:                         4.54\n",
       "===================================================================================\n",
       "\n",
       "Warnings:\n",
       "[1] Covariance matrix calculated using the outer product of gradients (complex-step).\n",
       "\"\"\""
      ]
     },
     "execution_count": 11,
     "metadata": {},
     "output_type": "execute_result"
    }
   ],
   "source": [
    "### model configuration and parameters for train\n",
    "z.summary()"
   ]
  },
  {
   "cell_type": "code",
   "execution_count": 12,
   "id": "ba0d6415",
   "metadata": {},
   "outputs": [
    {
     "data": {
      "text/plain": [
       "1960-07    609.332147\n",
       "1960-08    621.380930\n",
       "1960-09    516.993948\n",
       "1960-10    459.167589\n",
       "1960-11    409.771084\n",
       "1960-12    450.028823\n",
       "Freq: M, dtype: float64"
      ]
     },
     "execution_count": 12,
     "metadata": {},
     "output_type": "execute_result"
    }
   ],
   "source": [
    "y_pred_semfit = forecaster.predict(fh=[1,2,3,4,5,6]) ## o cutoff 1960-06\n",
    "y_pred_semfit"
   ]
  },
  {
   "cell_type": "code",
   "execution_count": 14,
   "id": "6ded642b",
   "metadata": {},
   "outputs": [
    {
     "data": {
      "text/plain": [
       "1961-01    609.332147\n",
       "1961-02    621.380930\n",
       "1961-03    516.993948\n",
       "1961-04    459.167589\n",
       "1961-05    409.771084\n",
       "1961-06    450.028823\n",
       "Freq: M, dtype: float64"
      ]
     },
     "execution_count": 14,
     "metadata": {},
     "output_type": "execute_result"
    }
   ],
   "source": [
    "## using a function from stkime for not update_params, but to forecast using the holdout portion of the data set (appended)\n",
    "y_pred = forecaster.update_predict_single(y_new=get_config('y_test'), update_params=False)\n",
    "y_pred\n",
    "### dates changed, but forecasted values are the same as above"
   ]
  },
  {
   "cell_type": "code",
   "execution_count": 15,
   "id": "b5b5fc1c",
   "metadata": {},
   "outputs": [
    {
     "data": {
      "text/plain": [
       "1961-01    609.332147\n",
       "1961-02    621.380930\n",
       "1961-03    516.993948\n",
       "1961-04    459.167589\n",
       "1961-05    409.771084\n",
       "1961-06    450.028823\n",
       "Freq: M, dtype: float64"
      ]
     },
     "execution_count": 15,
     "metadata": {},
     "output_type": "execute_result"
    }
   ],
   "source": [
    "### just changing the input of the function\n",
    "y_pred = forecaster.update_predict_single(y=get_config('y'), update_params=False)\n",
    "y_pred"
   ]
  },
  {
   "cell_type": "code",
   "execution_count": 16,
   "id": "d5f922d4",
   "metadata": {},
   "outputs": [
    {
     "data": {
      "text/plain": [
       "1961-01    609.332147\n",
       "1961-02    621.380930\n",
       "1961-03    516.993948\n",
       "1961-04    459.167589\n",
       "1961-05    409.771084\n",
       "1961-06    450.028823\n",
       "Freq: M, dtype: float64"
      ]
     },
     "execution_count": 16,
     "metadata": {},
     "output_type": "execute_result"
    }
   ],
   "source": [
    "### another function from stkime, without update/retrain model parameters\n",
    "updated_model =  forecaster.update(y=get_config('y'), update_params=False)\n",
    "updated_model.predict()"
   ]
  },
  {
   "cell_type": "code",
   "execution_count": 18,
   "id": "ac850e8f",
   "metadata": {},
   "outputs": [
    {
     "data": {
      "text/plain": [
       "1961-01    451.347076\n",
       "1961-02    427.102222\n",
       "1961-03    463.382490\n",
       "1961-04    499.705771\n",
       "1961-05    514.035525\n",
       "1961-06    571.851867\n",
       "Freq: M, dtype: float64"
      ]
     },
     "execution_count": 18,
     "metadata": {},
     "output_type": "execute_result"
    }
   ],
   "source": [
    "### however, if we set \"update_params=True\", time for command excution increase and forecasted values change\n",
    "updated_model =  forecaster.update(y=get_config('y_test'), update_params=True)\n",
    "updated_model.predict()"
   ]
  },
  {
   "cell_type": "code",
   "execution_count": 19,
   "id": "9cd9017c",
   "metadata": {},
   "outputs": [
    {
     "data": {
      "text/html": [
       "<table class=\"simpletable\">\n",
       "<caption>SARIMAX Results</caption>\n",
       "<tr>\n",
       "  <th>Dep. Variable:</th>                  <td>y</td>                <th>  No. Observations:  </th>    <td>144</td>  \n",
       "</tr>\n",
       "<tr>\n",
       "  <th>Model:</th>           <td>SARIMAX(0, 1, 1)x(2, 1, [], 12)</td> <th>  Log Likelihood     </th> <td>-505.589</td>\n",
       "</tr>\n",
       "<tr>\n",
       "  <th>Date:</th>                   <td>Tue, 21 Dec 2021</td>         <th>  AIC                </th> <td>1019.178</td>\n",
       "</tr>\n",
       "<tr>\n",
       "  <th>Time:</th>                       <td>11:30:13</td>             <th>  BIC                </th> <td>1030.679</td>\n",
       "</tr>\n",
       "<tr>\n",
       "  <th>Sample:</th>                         <td>0</td>                <th>  HQIC               </th> <td>1023.851</td>\n",
       "</tr>\n",
       "<tr>\n",
       "  <th></th>                             <td> - 144</td>              <th>                     </th>     <td> </td>   \n",
       "</tr>\n",
       "<tr>\n",
       "  <th>Covariance Type:</th>               <td>opg</td>               <th>                     </th>     <td> </td>   \n",
       "</tr>\n",
       "</table>\n",
       "<table class=\"simpletable\">\n",
       "<tr>\n",
       "      <td></td>        <th>coef</th>     <th>std err</th>      <th>z</th>      <th>P>|z|</th>  <th>[0.025</th>    <th>0.975]</th>  \n",
       "</tr>\n",
       "<tr>\n",
       "  <th>ma.L1</th>    <td>   -0.3634</td> <td>    0.074</td> <td>   -4.945</td> <td> 0.000</td> <td>   -0.508</td> <td>   -0.219</td>\n",
       "</tr>\n",
       "<tr>\n",
       "  <th>ar.S.L12</th> <td>   -0.1239</td> <td>    0.090</td> <td>   -1.372</td> <td> 0.170</td> <td>   -0.301</td> <td>    0.053</td>\n",
       "</tr>\n",
       "<tr>\n",
       "  <th>ar.S.L24</th> <td>    0.1911</td> <td>    0.107</td> <td>    1.783</td> <td> 0.075</td> <td>   -0.019</td> <td>    0.401</td>\n",
       "</tr>\n",
       "<tr>\n",
       "  <th>sigma2</th>   <td>  130.4480</td> <td>   15.527</td> <td>    8.402</td> <td> 0.000</td> <td>  100.016</td> <td>  160.880</td>\n",
       "</tr>\n",
       "</table>\n",
       "<table class=\"simpletable\">\n",
       "<tr>\n",
       "  <th>Ljung-Box (L1) (Q):</th>     <td>0.01</td> <th>  Jarque-Bera (JB):  </th> <td>4.59</td>\n",
       "</tr>\n",
       "<tr>\n",
       "  <th>Prob(Q):</th>                <td>0.92</td> <th>  Prob(JB):          </th> <td>0.10</td>\n",
       "</tr>\n",
       "<tr>\n",
       "  <th>Heteroskedasticity (H):</th> <td>2.70</td> <th>  Skew:              </th> <td>0.15</td>\n",
       "</tr>\n",
       "<tr>\n",
       "  <th>Prob(H) (two-sided):</th>    <td>0.00</td> <th>  Kurtosis:          </th> <td>3.87</td>\n",
       "</tr>\n",
       "</table><br/><br/>Warnings:<br/>[1] Covariance matrix calculated using the outer product of gradients (complex-step)."
      ],
      "text/plain": [
       "<class 'statsmodels.iolib.summary.Summary'>\n",
       "\"\"\"\n",
       "                                      SARIMAX Results                                      \n",
       "===========================================================================================\n",
       "Dep. Variable:                                   y   No. Observations:                  144\n",
       "Model:             SARIMAX(0, 1, 1)x(2, 1, [], 12)   Log Likelihood                -505.589\n",
       "Date:                             Tue, 21 Dec 2021   AIC                           1019.178\n",
       "Time:                                     11:30:13   BIC                           1030.679\n",
       "Sample:                                          0   HQIC                          1023.851\n",
       "                                             - 144                                         \n",
       "Covariance Type:                               opg                                         \n",
       "==============================================================================\n",
       "                 coef    std err          z      P>|z|      [0.025      0.975]\n",
       "------------------------------------------------------------------------------\n",
       "ma.L1         -0.3634      0.074     -4.945      0.000      -0.508      -0.219\n",
       "ar.S.L12      -0.1239      0.090     -1.372      0.170      -0.301       0.053\n",
       "ar.S.L24       0.1911      0.107      1.783      0.075      -0.019       0.401\n",
       "sigma2       130.4480     15.527      8.402      0.000     100.016     160.880\n",
       "===================================================================================\n",
       "Ljung-Box (L1) (Q):                   0.01   Jarque-Bera (JB):                 4.59\n",
       "Prob(Q):                              0.92   Prob(JB):                         0.10\n",
       "Heteroskedasticity (H):               2.70   Skew:                             0.15\n",
       "Prob(H) (two-sided):                  0.00   Kurtosis:                         3.87\n",
       "===================================================================================\n",
       "\n",
       "Warnings:\n",
       "[1] Covariance matrix calculated using the outer product of gradients (complex-step).\n",
       "\"\"\""
      ]
     },
     "execution_count": 19,
     "metadata": {},
     "output_type": "execute_result"
    }
   ],
   "source": [
    "## but model parameters/configuration are different\n",
    "updated_model.summary()"
   ]
  },
  {
   "cell_type": "code",
   "execution_count": 20,
   "id": "60ab30f3",
   "metadata": {},
   "outputs": [
    {
     "data": {
      "text/plain": [
       "1961-01    451.347076\n",
       "1961-02    427.102222\n",
       "1961-03    463.382490\n",
       "1961-04    499.705771\n",
       "1961-05    514.035525\n",
       "1961-06    571.851867\n",
       "Freq: M, dtype: float64"
      ]
     },
     "execution_count": 20,
     "metadata": {},
     "output_type": "execute_result"
    }
   ],
   "source": [
    "### using another function from Sktime, .fit_predict, the same results as above\n",
    "y2=get_config('y')\n",
    "y_pred = forecaster.fit_predict(y2,fh=[1,2,3,4,5,6])\n",
    "y_pred"
   ]
  },
  {
   "cell_type": "markdown",
   "id": "8edb3c14",
   "metadata": {},
   "source": [
    "##### Using  auto.arima from TS Pycaret"
   ]
  },
  {
   "cell_type": "code",
   "execution_count": 21,
   "id": "802bf0a8",
   "metadata": {},
   "outputs": [
    {
     "data": {
      "text/html": [
       "<div>\n",
       "<style scoped>\n",
       "    .dataframe tbody tr th:only-of-type {\n",
       "        vertical-align: middle;\n",
       "    }\n",
       "\n",
       "    .dataframe tbody tr th {\n",
       "        vertical-align: top;\n",
       "    }\n",
       "\n",
       "    .dataframe thead th {\n",
       "        text-align: right;\n",
       "    }\n",
       "</style>\n",
       "<table border=\"1\" class=\"dataframe\">\n",
       "  <thead>\n",
       "    <tr style=\"text-align: right;\">\n",
       "      <th></th>\n",
       "      <th>MAE</th>\n",
       "      <th>RMSE</th>\n",
       "      <th>MAPE</th>\n",
       "      <th>SMAPE</th>\n",
       "      <th>MASE</th>\n",
       "      <th>R2</th>\n",
       "    </tr>\n",
       "  </thead>\n",
       "  <tbody>\n",
       "    <tr>\n",
       "      <th>0</th>\n",
       "      <td>12.7792</td>\n",
       "      <td>14.1258</td>\n",
       "      <td>0.0266</td>\n",
       "      <td>0.0262</td>\n",
       "      <td>0.4073</td>\n",
       "      <td>0.973</td>\n",
       "    </tr>\n",
       "  </tbody>\n",
       "</table>\n",
       "</div>"
      ],
      "text/plain": [
       "       MAE     RMSE    MAPE   SMAPE    MASE     R2\n",
       "0  12.7792  14.1258  0.0266  0.0262  0.4073  0.973"
      ]
     },
     "metadata": {},
     "output_type": "display_data"
    }
   ],
   "source": [
    "autoarima = create_model('auto_arima',cross_validation=False,random_state=123)\n",
    "final_arima = finalize_model(autoarima)"
   ]
  },
  {
   "cell_type": "code",
   "execution_count": 22,
   "id": "2223de1e",
   "metadata": {},
   "outputs": [
    {
     "data": {
      "text/html": [
       "<style  type=\"text/css\" >\n",
       "</style><table id=\"T_6c2eb_\" ><thead>    <tr>        <th class=\"blank level0\" ></th>        <th class=\"col_heading level0 col0\" >Model</th>        <th class=\"col_heading level0 col1\" >MAE</th>        <th class=\"col_heading level0 col2\" >RMSE</th>        <th class=\"col_heading level0 col3\" >MAPE</th>        <th class=\"col_heading level0 col4\" >SMAPE</th>        <th class=\"col_heading level0 col5\" >MASE</th>        <th class=\"col_heading level0 col6\" >R2</th>    </tr></thead><tbody>\n",
       "                <tr>\n",
       "                        <th id=\"T_6c2eb_level0_row0\" class=\"row_heading level0 row0\" >0</th>\n",
       "                        <td id=\"T_6c2eb_row0_col0\" class=\"data row0 col0\" >Auto ARIMA</td>\n",
       "                        <td id=\"T_6c2eb_row0_col1\" class=\"data row0 col1\" >12.7792</td>\n",
       "                        <td id=\"T_6c2eb_row0_col2\" class=\"data row0 col2\" >14.1258</td>\n",
       "                        <td id=\"T_6c2eb_row0_col3\" class=\"data row0 col3\" >0.0266</td>\n",
       "                        <td id=\"T_6c2eb_row0_col4\" class=\"data row0 col4\" >0.0262</td>\n",
       "                        <td id=\"T_6c2eb_row0_col5\" class=\"data row0 col5\" >0.4073</td>\n",
       "                        <td id=\"T_6c2eb_row0_col6\" class=\"data row0 col6\" >0.9730</td>\n",
       "            </tr>\n",
       "    </tbody></table>"
      ],
      "text/plain": [
       "<pandas.io.formats.style.Styler at 0x230a772a4f0>"
      ]
     },
     "metadata": {},
     "output_type": "display_data"
    },
    {
     "data": {
      "text/plain": [
       "1960-07    609.3321\n",
       "1960-08    621.3809\n",
       "1960-09    516.9939\n",
       "1960-10    459.1676\n",
       "1960-11    409.7711\n",
       "1960-12    450.0288\n",
       "Freq: M, Name: Number of airline passengers, dtype: float64"
      ]
     },
     "execution_count": 22,
     "metadata": {},
     "output_type": "execute_result"
    }
   ],
   "source": [
    "###  predict withour finalize_model()\n",
    "predict_model(autoarima) "
   ]
  },
  {
   "cell_type": "code",
   "execution_count": 23,
   "id": "c94abe61",
   "metadata": {},
   "outputs": [
    {
     "data": {
      "text/plain": [
       "1961-01    451.3471\n",
       "1961-02    427.1022\n",
       "1961-03    463.3825\n",
       "1961-04    499.7058\n",
       "1961-05    514.0355\n",
       "1961-06    571.8519\n",
       "Freq: M, Name: Number of airline passengers, dtype: float64"
      ]
     },
     "execution_count": 23,
     "metadata": {},
     "output_type": "execute_result"
    }
   ],
   "source": [
    "### modelo com finalize model\n",
    "### mesmo resultado do anterior do sktime, quando se faz o retreino\n",
    "predict_model(final_arima) "
   ]
  },
  {
   "cell_type": "code",
   "execution_count": 24,
   "id": "201e7788",
   "metadata": {},
   "outputs": [
    {
     "data": {
      "text/plain": [
       "1960-07    609.3321\n",
       "1960-08    621.3809\n",
       "1960-09    516.9939\n",
       "1960-10    459.1676\n",
       "1960-11    409.7711\n",
       "1960-12    450.0288\n",
       "1961-01    465.6640\n",
       "1961-02    438.6528\n",
       "1961-03    479.7779\n",
       "1961-04    506.6883\n",
       "1961-05    523.7018\n",
       "1961-06    590.2737\n",
       "Freq: M, Name: Number of airline passengers, dtype: float64"
      ]
     },
     "execution_count": 24,
     "metadata": {},
     "output_type": "execute_result"
    }
   ],
   "source": [
    "### amentando os n_steps, veja que fica diferente, e o valor alimentado é o proprio yhat anterior\n",
    "predict_model(autoarima,fh=12)"
   ]
  },
  {
   "cell_type": "code",
   "execution_count": 25,
   "id": "dc044c2a",
   "metadata": {},
   "outputs": [
    {
     "data": {
      "text/html": [
       "<table class=\"simpletable\">\n",
       "<caption>SARIMAX Results</caption>\n",
       "<tr>\n",
       "  <th>Dep. Variable:</th>                    <td>y</td>                  <th>  No. Observations:  </th>    <td>138</td>  \n",
       "</tr>\n",
       "<tr>\n",
       "  <th>Model:</th>           <td>SARIMAX(0, 1, 1)x(1, 1, [1, 2], 12)</td> <th>  Log Likelihood     </th> <td>-476.916</td>\n",
       "</tr>\n",
       "<tr>\n",
       "  <th>Date:</th>                     <td>Tue, 21 Dec 2021</td>           <th>  AIC                </th>  <td>963.831</td>\n",
       "</tr>\n",
       "<tr>\n",
       "  <th>Time:</th>                         <td>11:50:14</td>               <th>  BIC                </th>  <td>977.973</td>\n",
       "</tr>\n",
       "<tr>\n",
       "  <th>Sample:</th>                           <td>0</td>                  <th>  HQIC               </th>  <td>969.576</td>\n",
       "</tr>\n",
       "<tr>\n",
       "  <th></th>                               <td> - 138</td>                <th>                     </th>     <td> </td>   \n",
       "</tr>\n",
       "<tr>\n",
       "  <th>Covariance Type:</th>                 <td>opg</td>                 <th>                     </th>     <td> </td>   \n",
       "</tr>\n",
       "</table>\n",
       "<table class=\"simpletable\">\n",
       "<tr>\n",
       "      <td></td>        <th>coef</th>     <th>std err</th>      <th>z</th>      <th>P>|z|</th>  <th>[0.025</th>    <th>0.975]</th>  \n",
       "</tr>\n",
       "<tr>\n",
       "  <th>ma.L1</th>    <td>   -0.4017</td> <td>    0.063</td> <td>   -6.333</td> <td> 0.000</td> <td>   -0.526</td> <td>   -0.277</td>\n",
       "</tr>\n",
       "<tr>\n",
       "  <th>ar.S.L12</th> <td>    0.9670</td> <td>    0.129</td> <td>    7.506</td> <td> 0.000</td> <td>    0.714</td> <td>    1.219</td>\n",
       "</tr>\n",
       "<tr>\n",
       "  <th>ma.S.L12</th> <td>   -1.2407</td> <td>    0.303</td> <td>   -4.100</td> <td> 0.000</td> <td>   -1.834</td> <td>   -0.648</td>\n",
       "</tr>\n",
       "<tr>\n",
       "  <th>ma.S.L24</th> <td>    0.3552</td> <td>    0.136</td> <td>    2.620</td> <td> 0.009</td> <td>    0.089</td> <td>    0.621</td>\n",
       "</tr>\n",
       "<tr>\n",
       "  <th>sigma2</th>   <td>  111.8755</td> <td>   14.982</td> <td>    7.467</td> <td> 0.000</td> <td>   82.512</td> <td>  141.239</td>\n",
       "</tr>\n",
       "</table>\n",
       "<table class=\"simpletable\">\n",
       "<tr>\n",
       "  <th>Ljung-Box (L1) (Q):</th>     <td>0.00</td> <th>  Jarque-Bera (JB):  </th> <td>12.50</td>\n",
       "</tr>\n",
       "<tr>\n",
       "  <th>Prob(Q):</th>                <td>0.96</td> <th>  Prob(JB):          </th> <td>0.00</td> \n",
       "</tr>\n",
       "<tr>\n",
       "  <th>Heteroskedasticity (H):</th> <td>2.48</td> <th>  Skew:              </th> <td>0.10</td> \n",
       "</tr>\n",
       "<tr>\n",
       "  <th>Prob(H) (two-sided):</th>    <td>0.00</td> <th>  Kurtosis:          </th> <td>4.54</td> \n",
       "</tr>\n",
       "</table><br/><br/>Warnings:<br/>[1] Covariance matrix calculated using the outer product of gradients (complex-step)."
      ],
      "text/plain": [
       "<class 'statsmodels.iolib.summary.Summary'>\n",
       "\"\"\"\n",
       "                                        SARIMAX Results                                        \n",
       "===============================================================================================\n",
       "Dep. Variable:                                       y   No. Observations:                  138\n",
       "Model:             SARIMAX(0, 1, 1)x(1, 1, [1, 2], 12)   Log Likelihood                -476.916\n",
       "Date:                                 Tue, 21 Dec 2021   AIC                            963.831\n",
       "Time:                                         11:50:14   BIC                            977.973\n",
       "Sample:                                              0   HQIC                           969.576\n",
       "                                                 - 138                                         \n",
       "Covariance Type:                                   opg                                         \n",
       "==============================================================================\n",
       "                 coef    std err          z      P>|z|      [0.025      0.975]\n",
       "------------------------------------------------------------------------------\n",
       "ma.L1         -0.4017      0.063     -6.333      0.000      -0.526      -0.277\n",
       "ar.S.L12       0.9670      0.129      7.506      0.000       0.714       1.219\n",
       "ma.S.L12      -1.2407      0.303     -4.100      0.000      -1.834      -0.648\n",
       "ma.S.L24       0.3552      0.136      2.620      0.009       0.089       0.621\n",
       "sigma2       111.8755     14.982      7.467      0.000      82.512     141.239\n",
       "===================================================================================\n",
       "Ljung-Box (L1) (Q):                   0.00   Jarque-Bera (JB):                12.50\n",
       "Prob(Q):                              0.96   Prob(JB):                         0.00\n",
       "Heteroskedasticity (H):               2.48   Skew:                             0.10\n",
       "Prob(H) (two-sided):                  0.00   Kurtosis:                         4.54\n",
       "===================================================================================\n",
       "\n",
       "Warnings:\n",
       "[1] Covariance matrix calculated using the outer product of gradients (complex-step).\n",
       "\"\"\""
      ]
     },
     "execution_count": 25,
     "metadata": {},
     "output_type": "execute_result"
    }
   ],
   "source": [
    "## by summary, we can see that models are different, retrained in 144 observations in the finalize_model()\n",
    "autoarima.summary()"
   ]
  },
  {
   "cell_type": "code",
   "execution_count": 26,
   "id": "9050001e",
   "metadata": {},
   "outputs": [
    {
     "data": {
      "text/html": [
       "<table class=\"simpletable\">\n",
       "<caption>SARIMAX Results</caption>\n",
       "<tr>\n",
       "  <th>Dep. Variable:</th>                    <td>y</td>                  <th>  No. Observations:  </th>    <td>138</td>  \n",
       "</tr>\n",
       "<tr>\n",
       "  <th>Model:</th>           <td>SARIMAX(0, 1, 1)x(1, 1, [1, 2], 12)</td> <th>  Log Likelihood     </th> <td>-476.916</td>\n",
       "</tr>\n",
       "<tr>\n",
       "  <th>Date:</th>                     <td>Tue, 21 Dec 2021</td>           <th>  AIC                </th>  <td>963.831</td>\n",
       "</tr>\n",
       "<tr>\n",
       "  <th>Time:</th>                         <td>11:50:16</td>               <th>  BIC                </th>  <td>977.973</td>\n",
       "</tr>\n",
       "<tr>\n",
       "  <th>Sample:</th>                           <td>0</td>                  <th>  HQIC               </th>  <td>969.576</td>\n",
       "</tr>\n",
       "<tr>\n",
       "  <th></th>                               <td> - 138</td>                <th>                     </th>     <td> </td>   \n",
       "</tr>\n",
       "<tr>\n",
       "  <th>Covariance Type:</th>                 <td>opg</td>                 <th>                     </th>     <td> </td>   \n",
       "</tr>\n",
       "</table>\n",
       "<table class=\"simpletable\">\n",
       "<tr>\n",
       "      <td></td>        <th>coef</th>     <th>std err</th>      <th>z</th>      <th>P>|z|</th>  <th>[0.025</th>    <th>0.975]</th>  \n",
       "</tr>\n",
       "<tr>\n",
       "  <th>ma.L1</th>    <td>   -0.4017</td> <td>    0.063</td> <td>   -6.333</td> <td> 0.000</td> <td>   -0.526</td> <td>   -0.277</td>\n",
       "</tr>\n",
       "<tr>\n",
       "  <th>ar.S.L12</th> <td>    0.9670</td> <td>    0.129</td> <td>    7.506</td> <td> 0.000</td> <td>    0.714</td> <td>    1.219</td>\n",
       "</tr>\n",
       "<tr>\n",
       "  <th>ma.S.L12</th> <td>   -1.2407</td> <td>    0.303</td> <td>   -4.100</td> <td> 0.000</td> <td>   -1.834</td> <td>   -0.648</td>\n",
       "</tr>\n",
       "<tr>\n",
       "  <th>ma.S.L24</th> <td>    0.3552</td> <td>    0.136</td> <td>    2.620</td> <td> 0.009</td> <td>    0.089</td> <td>    0.621</td>\n",
       "</tr>\n",
       "<tr>\n",
       "  <th>sigma2</th>   <td>  111.8755</td> <td>   14.982</td> <td>    7.467</td> <td> 0.000</td> <td>   82.512</td> <td>  141.239</td>\n",
       "</tr>\n",
       "</table>\n",
       "<table class=\"simpletable\">\n",
       "<tr>\n",
       "  <th>Ljung-Box (L1) (Q):</th>     <td>0.00</td> <th>  Jarque-Bera (JB):  </th> <td>12.50</td>\n",
       "</tr>\n",
       "<tr>\n",
       "  <th>Prob(Q):</th>                <td>0.96</td> <th>  Prob(JB):          </th> <td>0.00</td> \n",
       "</tr>\n",
       "<tr>\n",
       "  <th>Heteroskedasticity (H):</th> <td>2.48</td> <th>  Skew:              </th> <td>0.10</td> \n",
       "</tr>\n",
       "<tr>\n",
       "  <th>Prob(H) (two-sided):</th>    <td>0.00</td> <th>  Kurtosis:          </th> <td>4.54</td> \n",
       "</tr>\n",
       "</table><br/><br/>Warnings:<br/>[1] Covariance matrix calculated using the outer product of gradients (complex-step)."
      ],
      "text/plain": [
       "<class 'statsmodels.iolib.summary.Summary'>\n",
       "\"\"\"\n",
       "                                        SARIMAX Results                                        \n",
       "===============================================================================================\n",
       "Dep. Variable:                                       y   No. Observations:                  138\n",
       "Model:             SARIMAX(0, 1, 1)x(1, 1, [1, 2], 12)   Log Likelihood                -476.916\n",
       "Date:                                 Tue, 21 Dec 2021   AIC                            963.831\n",
       "Time:                                         11:50:16   BIC                            977.973\n",
       "Sample:                                              0   HQIC                           969.576\n",
       "                                                 - 138                                         \n",
       "Covariance Type:                                   opg                                         \n",
       "==============================================================================\n",
       "                 coef    std err          z      P>|z|      [0.025      0.975]\n",
       "------------------------------------------------------------------------------\n",
       "ma.L1         -0.4017      0.063     -6.333      0.000      -0.526      -0.277\n",
       "ar.S.L12       0.9670      0.129      7.506      0.000       0.714       1.219\n",
       "ma.S.L12      -1.2407      0.303     -4.100      0.000      -1.834      -0.648\n",
       "ma.S.L24       0.3552      0.136      2.620      0.009       0.089       0.621\n",
       "sigma2       111.8755     14.982      7.467      0.000      82.512     141.239\n",
       "===================================================================================\n",
       "Ljung-Box (L1) (Q):                   0.00   Jarque-Bera (JB):                12.50\n",
       "Prob(Q):                              0.96   Prob(JB):                         0.00\n",
       "Heteroskedasticity (H):               2.48   Skew:                             0.10\n",
       "Prob(H) (two-sided):                  0.00   Kurtosis:                         4.54\n",
       "===================================================================================\n",
       "\n",
       "Warnings:\n",
       "[1] Covariance matrix calculated using the outer product of gradients (complex-step).\n",
       "\"\"\""
      ]
     },
     "execution_count": 26,
     "metadata": {},
     "output_type": "execute_result"
    }
   ],
   "source": [
    "# autoarima.get_params()\n",
    "autoarima.summary()"
   ]
  },
  {
   "cell_type": "code",
   "execution_count": 523,
   "id": "da1e7ad2",
   "metadata": {},
   "outputs": [
    {
     "data": {
      "text/html": [
       "<table class=\"simpletable\">\n",
       "<caption>SARIMAX Results</caption>\n",
       "<tr>\n",
       "  <th>Dep. Variable:</th>                  <td>y</td>                <th>  No. Observations:  </th>    <td>144</td>  \n",
       "</tr>\n",
       "<tr>\n",
       "  <th>Model:</th>           <td>SARIMAX(0, 1, 1)x(2, 1, [], 12)</td> <th>  Log Likelihood     </th> <td>-505.589</td>\n",
       "</tr>\n",
       "<tr>\n",
       "  <th>Date:</th>                   <td>Mon, 20 Dec 2021</td>         <th>  AIC                </th> <td>1019.178</td>\n",
       "</tr>\n",
       "<tr>\n",
       "  <th>Time:</th>                       <td>17:05:39</td>             <th>  BIC                </th> <td>1030.679</td>\n",
       "</tr>\n",
       "<tr>\n",
       "  <th>Sample:</th>                         <td>0</td>                <th>  HQIC               </th> <td>1023.851</td>\n",
       "</tr>\n",
       "<tr>\n",
       "  <th></th>                             <td> - 144</td>              <th>                     </th>     <td> </td>   \n",
       "</tr>\n",
       "<tr>\n",
       "  <th>Covariance Type:</th>               <td>opg</td>               <th>                     </th>     <td> </td>   \n",
       "</tr>\n",
       "</table>\n",
       "<table class=\"simpletable\">\n",
       "<tr>\n",
       "      <td></td>        <th>coef</th>     <th>std err</th>      <th>z</th>      <th>P>|z|</th>  <th>[0.025</th>    <th>0.975]</th>  \n",
       "</tr>\n",
       "<tr>\n",
       "  <th>ma.L1</th>    <td>   -0.3634</td> <td>    0.074</td> <td>   -4.945</td> <td> 0.000</td> <td>   -0.508</td> <td>   -0.219</td>\n",
       "</tr>\n",
       "<tr>\n",
       "  <th>ar.S.L12</th> <td>   -0.1239</td> <td>    0.090</td> <td>   -1.372</td> <td> 0.170</td> <td>   -0.301</td> <td>    0.053</td>\n",
       "</tr>\n",
       "<tr>\n",
       "  <th>ar.S.L24</th> <td>    0.1911</td> <td>    0.107</td> <td>    1.783</td> <td> 0.075</td> <td>   -0.019</td> <td>    0.401</td>\n",
       "</tr>\n",
       "<tr>\n",
       "  <th>sigma2</th>   <td>  130.4480</td> <td>   15.527</td> <td>    8.402</td> <td> 0.000</td> <td>  100.016</td> <td>  160.880</td>\n",
       "</tr>\n",
       "</table>\n",
       "<table class=\"simpletable\">\n",
       "<tr>\n",
       "  <th>Ljung-Box (L1) (Q):</th>     <td>0.01</td> <th>  Jarque-Bera (JB):  </th> <td>4.59</td>\n",
       "</tr>\n",
       "<tr>\n",
       "  <th>Prob(Q):</th>                <td>0.92</td> <th>  Prob(JB):          </th> <td>0.10</td>\n",
       "</tr>\n",
       "<tr>\n",
       "  <th>Heteroskedasticity (H):</th> <td>2.70</td> <th>  Skew:              </th> <td>0.15</td>\n",
       "</tr>\n",
       "<tr>\n",
       "  <th>Prob(H) (two-sided):</th>    <td>0.00</td> <th>  Kurtosis:          </th> <td>3.87</td>\n",
       "</tr>\n",
       "</table><br/><br/>Warnings:<br/>[1] Covariance matrix calculated using the outer product of gradients (complex-step)."
      ],
      "text/plain": [
       "<class 'statsmodels.iolib.summary.Summary'>\n",
       "\"\"\"\n",
       "                                      SARIMAX Results                                      \n",
       "===========================================================================================\n",
       "Dep. Variable:                                   y   No. Observations:                  144\n",
       "Model:             SARIMAX(0, 1, 1)x(2, 1, [], 12)   Log Likelihood                -505.589\n",
       "Date:                             Mon, 20 Dec 2021   AIC                           1019.178\n",
       "Time:                                     17:05:39   BIC                           1030.679\n",
       "Sample:                                          0   HQIC                          1023.851\n",
       "                                             - 144                                         \n",
       "Covariance Type:                               opg                                         \n",
       "==============================================================================\n",
       "                 coef    std err          z      P>|z|      [0.025      0.975]\n",
       "------------------------------------------------------------------------------\n",
       "ma.L1         -0.3634      0.074     -4.945      0.000      -0.508      -0.219\n",
       "ar.S.L12      -0.1239      0.090     -1.372      0.170      -0.301       0.053\n",
       "ar.S.L24       0.1911      0.107      1.783      0.075      -0.019       0.401\n",
       "sigma2       130.4480     15.527      8.402      0.000     100.016     160.880\n",
       "===================================================================================\n",
       "Ljung-Box (L1) (Q):                   0.01   Jarque-Bera (JB):                 4.59\n",
       "Prob(Q):                              0.92   Prob(JB):                         0.10\n",
       "Heteroskedasticity (H):               2.70   Skew:                             0.15\n",
       "Prob(H) (two-sided):                  0.00   Kurtosis:                         3.87\n",
       "===================================================================================\n",
       "\n",
       "Warnings:\n",
       "[1] Covariance matrix calculated using the outer product of gradients (complex-step).\n",
       "\"\"\""
      ]
     },
     "execution_count": 523,
     "metadata": {},
     "output_type": "execute_result"
    }
   ],
   "source": [
    "final_arima.get_params()\n",
    "final_arima.summary()"
   ]
  },
  {
   "cell_type": "code",
   "execution_count": 27,
   "id": "a8bcfbb9",
   "metadata": {},
   "outputs": [
    {
     "data": {
      "text/html": [
       "<style  type=\"text/css\" >\n",
       "#T_878d5_row1_col0,#T_878d5_row1_col1,#T_878d5_row1_col2,#T_878d5_row1_col3,#T_878d5_row1_col4,#T_878d5_row1_col5,#T_878d5_row1_col6{\n",
       "            background:  yellow;\n",
       "        }</style><table id=\"T_878d5_\" ><thead>    <tr>        <th class=\"blank level0\" ></th>        <th class=\"col_heading level0 col0\" >cutoff</th>        <th class=\"col_heading level0 col1\" >MAE</th>        <th class=\"col_heading level0 col2\" >RMSE</th>        <th class=\"col_heading level0 col3\" >MAPE</th>        <th class=\"col_heading level0 col4\" >SMAPE</th>        <th class=\"col_heading level0 col5\" >MASE</th>        <th class=\"col_heading level0 col6\" >R2</th>    </tr></thead><tbody>\n",
       "                <tr>\n",
       "                        <th id=\"T_878d5_level0_row0\" class=\"row_heading level0 row0\" >0</th>\n",
       "                        <td id=\"T_878d5_row0_col0\" class=\"data row0 col0\" >1959-12</td>\n",
       "                        <td id=\"T_878d5_row0_col1\" class=\"data row0 col1\" >15.9038</td>\n",
       "                        <td id=\"T_878d5_row0_col2\" class=\"data row0 col2\" >19.8685</td>\n",
       "                        <td id=\"T_878d5_row0_col3\" class=\"data row0 col3\" >0.0355</td>\n",
       "                        <td id=\"T_878d5_row0_col4\" class=\"data row0 col4\" >0.0350</td>\n",
       "                        <td id=\"T_878d5_row0_col5\" class=\"data row0 col5\" >0.5223</td>\n",
       "                        <td id=\"T_878d5_row0_col6\" class=\"data row0 col6\" >0.8227</td>\n",
       "            </tr>\n",
       "            <tr>\n",
       "                        <th id=\"T_878d5_level0_row1\" class=\"row_heading level0 row1\" >Mean</th>\n",
       "                        <td id=\"T_878d5_row1_col0\" class=\"data row1 col0\" >nan</td>\n",
       "                        <td id=\"T_878d5_row1_col1\" class=\"data row1 col1\" >15.9038</td>\n",
       "                        <td id=\"T_878d5_row1_col2\" class=\"data row1 col2\" >19.8685</td>\n",
       "                        <td id=\"T_878d5_row1_col3\" class=\"data row1 col3\" >0.0355</td>\n",
       "                        <td id=\"T_878d5_row1_col4\" class=\"data row1 col4\" >0.0350</td>\n",
       "                        <td id=\"T_878d5_row1_col5\" class=\"data row1 col5\" >0.5223</td>\n",
       "                        <td id=\"T_878d5_row1_col6\" class=\"data row1 col6\" >0.8227</td>\n",
       "            </tr>\n",
       "            <tr>\n",
       "                        <th id=\"T_878d5_level0_row2\" class=\"row_heading level0 row2\" >SD</th>\n",
       "                        <td id=\"T_878d5_row2_col0\" class=\"data row2 col0\" >nan</td>\n",
       "                        <td id=\"T_878d5_row2_col1\" class=\"data row2 col1\" >0.0000</td>\n",
       "                        <td id=\"T_878d5_row2_col2\" class=\"data row2 col2\" >0.0000</td>\n",
       "                        <td id=\"T_878d5_row2_col3\" class=\"data row2 col3\" >0.0000</td>\n",
       "                        <td id=\"T_878d5_row2_col4\" class=\"data row2 col4\" >0.0000</td>\n",
       "                        <td id=\"T_878d5_row2_col5\" class=\"data row2 col5\" >0.0000</td>\n",
       "                        <td id=\"T_878d5_row2_col6\" class=\"data row2 col6\" >0.0000</td>\n",
       "            </tr>\n",
       "    </tbody></table>"
      ],
      "text/plain": [
       "<pandas.io.formats.style.Styler at 0x2309e5b0a30>"
      ]
     },
     "metadata": {},
     "output_type": "display_data"
    }
   ],
   "source": [
    "## Let's tune autoarima\n",
    "tuned_arima = tune_model(autoarima, n_iter=5, search_algorithm='random',\n",
    "                         choose_better=True,\n",
    "                         tuner_verbose=False,\n",
    "                         optimize='MAE',\n",
    "                         fold=1)"
   ]
  },
  {
   "cell_type": "code",
   "execution_count": 28,
   "id": "62254184",
   "metadata": {},
   "outputs": [
    {
     "data": {
      "text/html": [
       "<table class=\"simpletable\">\n",
       "<caption>SARIMAX Results</caption>\n",
       "<tr>\n",
       "  <th>Dep. Variable:</th>                    <td>y</td>                  <th>  No. Observations:  </th>    <td>138</td>  \n",
       "</tr>\n",
       "<tr>\n",
       "  <th>Model:</th>           <td>SARIMAX(0, 1, 1)x(1, 1, [1, 2], 12)</td> <th>  Log Likelihood     </th> <td>-476.916</td>\n",
       "</tr>\n",
       "<tr>\n",
       "  <th>Date:</th>                     <td>Tue, 21 Dec 2021</td>           <th>  AIC                </th>  <td>963.831</td>\n",
       "</tr>\n",
       "<tr>\n",
       "  <th>Time:</th>                         <td>11:55:29</td>               <th>  BIC                </th>  <td>977.973</td>\n",
       "</tr>\n",
       "<tr>\n",
       "  <th>Sample:</th>                           <td>0</td>                  <th>  HQIC               </th>  <td>969.576</td>\n",
       "</tr>\n",
       "<tr>\n",
       "  <th></th>                               <td> - 138</td>                <th>                     </th>     <td> </td>   \n",
       "</tr>\n",
       "<tr>\n",
       "  <th>Covariance Type:</th>                 <td>opg</td>                 <th>                     </th>     <td> </td>   \n",
       "</tr>\n",
       "</table>\n",
       "<table class=\"simpletable\">\n",
       "<tr>\n",
       "      <td></td>        <th>coef</th>     <th>std err</th>      <th>z</th>      <th>P>|z|</th>  <th>[0.025</th>    <th>0.975]</th>  \n",
       "</tr>\n",
       "<tr>\n",
       "  <th>ma.L1</th>    <td>   -0.4017</td> <td>    0.063</td> <td>   -6.333</td> <td> 0.000</td> <td>   -0.526</td> <td>   -0.277</td>\n",
       "</tr>\n",
       "<tr>\n",
       "  <th>ar.S.L12</th> <td>    0.9670</td> <td>    0.129</td> <td>    7.506</td> <td> 0.000</td> <td>    0.714</td> <td>    1.219</td>\n",
       "</tr>\n",
       "<tr>\n",
       "  <th>ma.S.L12</th> <td>   -1.2407</td> <td>    0.303</td> <td>   -4.100</td> <td> 0.000</td> <td>   -1.834</td> <td>   -0.648</td>\n",
       "</tr>\n",
       "<tr>\n",
       "  <th>ma.S.L24</th> <td>    0.3552</td> <td>    0.136</td> <td>    2.620</td> <td> 0.009</td> <td>    0.089</td> <td>    0.621</td>\n",
       "</tr>\n",
       "<tr>\n",
       "  <th>sigma2</th>   <td>  111.8755</td> <td>   14.982</td> <td>    7.467</td> <td> 0.000</td> <td>   82.512</td> <td>  141.239</td>\n",
       "</tr>\n",
       "</table>\n",
       "<table class=\"simpletable\">\n",
       "<tr>\n",
       "  <th>Ljung-Box (L1) (Q):</th>     <td>0.00</td> <th>  Jarque-Bera (JB):  </th> <td>12.50</td>\n",
       "</tr>\n",
       "<tr>\n",
       "  <th>Prob(Q):</th>                <td>0.96</td> <th>  Prob(JB):          </th> <td>0.00</td> \n",
       "</tr>\n",
       "<tr>\n",
       "  <th>Heteroskedasticity (H):</th> <td>2.48</td> <th>  Skew:              </th> <td>0.10</td> \n",
       "</tr>\n",
       "<tr>\n",
       "  <th>Prob(H) (two-sided):</th>    <td>0.00</td> <th>  Kurtosis:          </th> <td>4.54</td> \n",
       "</tr>\n",
       "</table><br/><br/>Warnings:<br/>[1] Covariance matrix calculated using the outer product of gradients (complex-step)."
      ],
      "text/plain": [
       "<class 'statsmodels.iolib.summary.Summary'>\n",
       "\"\"\"\n",
       "                                        SARIMAX Results                                        \n",
       "===============================================================================================\n",
       "Dep. Variable:                                       y   No. Observations:                  138\n",
       "Model:             SARIMAX(0, 1, 1)x(1, 1, [1, 2], 12)   Log Likelihood                -476.916\n",
       "Date:                                 Tue, 21 Dec 2021   AIC                            963.831\n",
       "Time:                                         11:55:29   BIC                            977.973\n",
       "Sample:                                              0   HQIC                           969.576\n",
       "                                                 - 138                                         \n",
       "Covariance Type:                                   opg                                         \n",
       "==============================================================================\n",
       "                 coef    std err          z      P>|z|      [0.025      0.975]\n",
       "------------------------------------------------------------------------------\n",
       "ma.L1         -0.4017      0.063     -6.333      0.000      -0.526      -0.277\n",
       "ar.S.L12       0.9670      0.129      7.506      0.000       0.714       1.219\n",
       "ma.S.L12      -1.2407      0.303     -4.100      0.000      -1.834      -0.648\n",
       "ma.S.L24       0.3552      0.136      2.620      0.009       0.089       0.621\n",
       "sigma2       111.8755     14.982      7.467      0.000      82.512     141.239\n",
       "===================================================================================\n",
       "Ljung-Box (L1) (Q):                   0.00   Jarque-Bera (JB):                12.50\n",
       "Prob(Q):                              0.96   Prob(JB):                         0.00\n",
       "Heteroskedasticity (H):               2.48   Skew:                             0.10\n",
       "Prob(H) (two-sided):                  0.00   Kurtosis:                         4.54\n",
       "===================================================================================\n",
       "\n",
       "Warnings:\n",
       "[1] Covariance matrix calculated using the outer product of gradients (complex-step).\n",
       "\"\"\""
      ]
     },
     "execution_count": 28,
     "metadata": {},
     "output_type": "execute_result"
    }
   ],
   "source": [
    "## it is the same model autoarima and z, from Sktime (same parameters and configuration)\n",
    "tuned_arima.summary()"
   ]
  },
  {
   "cell_type": "code",
   "execution_count": 30,
   "id": "c3d8d767",
   "metadata": {},
   "outputs": [
    {
     "data": {
      "text/html": [
       "<table class=\"simpletable\">\n",
       "<caption>SARIMAX Results</caption>\n",
       "<tr>\n",
       "  <th>Dep. Variable:</th>                  <td>y</td>                <th>  No. Observations:  </th>    <td>144</td>  \n",
       "</tr>\n",
       "<tr>\n",
       "  <th>Model:</th>           <td>SARIMAX(0, 1, 1)x(2, 1, [], 12)</td> <th>  Log Likelihood     </th> <td>-505.589</td>\n",
       "</tr>\n",
       "<tr>\n",
       "  <th>Date:</th>                   <td>Tue, 21 Dec 2021</td>         <th>  AIC                </th> <td>1019.178</td>\n",
       "</tr>\n",
       "<tr>\n",
       "  <th>Time:</th>                       <td>13:36:18</td>             <th>  BIC                </th> <td>1030.679</td>\n",
       "</tr>\n",
       "<tr>\n",
       "  <th>Sample:</th>                         <td>0</td>                <th>  HQIC               </th> <td>1023.851</td>\n",
       "</tr>\n",
       "<tr>\n",
       "  <th></th>                             <td> - 144</td>              <th>                     </th>     <td> </td>   \n",
       "</tr>\n",
       "<tr>\n",
       "  <th>Covariance Type:</th>               <td>opg</td>               <th>                     </th>     <td> </td>   \n",
       "</tr>\n",
       "</table>\n",
       "<table class=\"simpletable\">\n",
       "<tr>\n",
       "      <td></td>        <th>coef</th>     <th>std err</th>      <th>z</th>      <th>P>|z|</th>  <th>[0.025</th>    <th>0.975]</th>  \n",
       "</tr>\n",
       "<tr>\n",
       "  <th>ma.L1</th>    <td>   -0.3634</td> <td>    0.074</td> <td>   -4.945</td> <td> 0.000</td> <td>   -0.508</td> <td>   -0.219</td>\n",
       "</tr>\n",
       "<tr>\n",
       "  <th>ar.S.L12</th> <td>   -0.1239</td> <td>    0.090</td> <td>   -1.372</td> <td> 0.170</td> <td>   -0.301</td> <td>    0.053</td>\n",
       "</tr>\n",
       "<tr>\n",
       "  <th>ar.S.L24</th> <td>    0.1911</td> <td>    0.107</td> <td>    1.783</td> <td> 0.075</td> <td>   -0.019</td> <td>    0.401</td>\n",
       "</tr>\n",
       "<tr>\n",
       "  <th>sigma2</th>   <td>  130.4480</td> <td>   15.527</td> <td>    8.402</td> <td> 0.000</td> <td>  100.016</td> <td>  160.880</td>\n",
       "</tr>\n",
       "</table>\n",
       "<table class=\"simpletable\">\n",
       "<tr>\n",
       "  <th>Ljung-Box (L1) (Q):</th>     <td>0.01</td> <th>  Jarque-Bera (JB):  </th> <td>4.59</td>\n",
       "</tr>\n",
       "<tr>\n",
       "  <th>Prob(Q):</th>                <td>0.92</td> <th>  Prob(JB):          </th> <td>0.10</td>\n",
       "</tr>\n",
       "<tr>\n",
       "  <th>Heteroskedasticity (H):</th> <td>2.70</td> <th>  Skew:              </th> <td>0.15</td>\n",
       "</tr>\n",
       "<tr>\n",
       "  <th>Prob(H) (two-sided):</th>    <td>0.00</td> <th>  Kurtosis:          </th> <td>3.87</td>\n",
       "</tr>\n",
       "</table><br/><br/>Warnings:<br/>[1] Covariance matrix calculated using the outer product of gradients (complex-step)."
      ],
      "text/plain": [
       "<class 'statsmodels.iolib.summary.Summary'>\n",
       "\"\"\"\n",
       "                                      SARIMAX Results                                      \n",
       "===========================================================================================\n",
       "Dep. Variable:                                   y   No. Observations:                  144\n",
       "Model:             SARIMAX(0, 1, 1)x(2, 1, [], 12)   Log Likelihood                -505.589\n",
       "Date:                             Tue, 21 Dec 2021   AIC                           1019.178\n",
       "Time:                                     13:36:18   BIC                           1030.679\n",
       "Sample:                                          0   HQIC                          1023.851\n",
       "                                             - 144                                         \n",
       "Covariance Type:                               opg                                         \n",
       "==============================================================================\n",
       "                 coef    std err          z      P>|z|      [0.025      0.975]\n",
       "------------------------------------------------------------------------------\n",
       "ma.L1         -0.3634      0.074     -4.945      0.000      -0.508      -0.219\n",
       "ar.S.L12      -0.1239      0.090     -1.372      0.170      -0.301       0.053\n",
       "ar.S.L24       0.1911      0.107      1.783      0.075      -0.019       0.401\n",
       "sigma2       130.4480     15.527      8.402      0.000     100.016     160.880\n",
       "===================================================================================\n",
       "Ljung-Box (L1) (Q):                   0.01   Jarque-Bera (JB):                 4.59\n",
       "Prob(Q):                              0.92   Prob(JB):                         0.10\n",
       "Heteroskedasticity (H):               2.70   Skew:                             0.15\n",
       "Prob(H) (two-sided):                  0.00   Kurtosis:                         3.87\n",
       "===================================================================================\n",
       "\n",
       "Warnings:\n",
       "[1] Covariance matrix calculated using the outer product of gradients (complex-step).\n",
       "\"\"\""
      ]
     },
     "execution_count": 30,
     "metadata": {},
     "output_type": "execute_result"
    }
   ],
   "source": [
    "### when tunning \"tuned_arima\", results/parameters are diferent from above (autoarima and tuned_arima), but equal to final_arima\n",
    "final_model_arima_tuned = finalize_model(tuned_arima)\n",
    "final_model_arima_tuned.summary()"
   ]
  },
  {
   "cell_type": "code",
   "execution_count": 31,
   "id": "175797ef",
   "metadata": {},
   "outputs": [
    {
     "data": {
      "text/plain": [
       "1961-01    451.347076\n",
       "1961-02    427.102222\n",
       "1961-03    463.382490\n",
       "1961-04    499.705771\n",
       "1961-05    514.035525\n",
       "1961-06    571.851867\n",
       "Freq: M, dtype: float64"
      ]
     },
     "execution_count": 31,
     "metadata": {},
     "output_type": "execute_result"
    }
   ],
   "source": [
    "final_model_arima_tuned.predict()"
   ]
  },
  {
   "cell_type": "code",
   "execution_count": 531,
   "id": "1f2638a2",
   "metadata": {},
   "outputs": [
    {
     "data": {
      "text/plain": [
       "1961-01    451.347076\n",
       "1961-02    427.102222\n",
       "1961-03    463.382490\n",
       "1961-04    499.705771\n",
       "1961-05    514.035525\n",
       "1961-06    571.851867\n",
       "Freq: M, dtype: float64"
      ]
     },
     "execution_count": 531,
     "metadata": {},
     "output_type": "execute_result"
    }
   ],
   "source": [
    "updated_model = final_model_arima_tuned.update(y=get_config('y_test'), update_params=False)\n",
    "updated_model.predict()"
   ]
  },
  {
   "cell_type": "code",
   "execution_count": null,
   "id": "f8191742",
   "metadata": {},
   "outputs": [],
   "source": []
  }
 ],
 "metadata": {
  "kernelspec": {
   "display_name": "Python 3",
   "language": "python",
   "name": "python3"
  },
  "language_info": {
   "codemirror_mode": {
    "name": "ipython",
    "version": 3
   },
   "file_extension": ".py",
   "mimetype": "text/x-python",
   "name": "python",
   "nbconvert_exporter": "python",
   "pygments_lexer": "ipython3",
   "version": "3.8.8"
  }
 },
 "nbformat": 4,
 "nbformat_minor": 5
}
